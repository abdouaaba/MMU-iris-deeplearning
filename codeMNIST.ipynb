{
 "cells": [
  {
   "cell_type": "code",
   "execution_count": 74,
   "metadata": {},
   "outputs": [],
   "source": [
    "# importer pour le traitement des listes et pour l'affichage\n",
    "import numpy as np\n",
    "import matplotlib\n",
    "import matplotlib.pyplot as plt\n",
    "\n",
    "# keras : importer la base de données and creation de notre reseau\n",
    "from keras.datasets import mnist\n",
    "from keras.models import Sequential, load_model\n",
    "from keras.layers.core import Dense, Dropout, Activation\n",
    "from keras.utils import np_utils\n"
   ]
  },
  {
   "cell_type": "code",
   "execution_count": 75,
   "metadata": {},
   "outputs": [],
   "source": [
    "(X_train, y_train), (X_test, y_test) = mnist.load_data()"
   ]
  },
  {
   "cell_type": "code",
   "execution_count": 78,
   "metadata": {},
   "outputs": [
    {
     "data": {
      "image/png": "[encoded data removed]",
      "text/plain": [
       "<Figure size 432x288 with 9 Axes>"
      ]
     },
     "metadata": {},
     "output_type": "display_data"
    }
   ],
   "source": [
    "fig = plt.figure()\n",
    "for i in range(9):\n",
    "  plt.subplot(3,3,i+1)\n",
    "  plt.tight_layout()\n",
    "  plt.imshow(X_train[i], cmap='gray', interpolation='none')\n",
    "  plt.title(\"Digit: {}\".format(y_train[i]))\n",
    "  plt.xticks([])\n",
    "  plt.yticks([])"
   ]
  },
  {
   "cell_type": "code",
   "execution_count": 80,
   "metadata": {},
   "outputs": [
    {
     "name": "stdout",
     "output_type": "stream",
     "text": [
      "Matrice d'entrainement (60000, 784)\n",
      "Matrice d'evaluation (10000, 784)\n"
     ]
    }
   ],
   "source": [
    "X_train = X_train.reshape(60000, 784)\n",
    "X_test = X_test.reshape(10000, 784)\n",
    "X_train = X_train.astype('float32')\n",
    "X_test = X_test.astype('float32')\n",
    "X_train /= 255\n",
    "X_test /= 255\n",
    "print(\"Matrice d'entrainement\", X_train.shape)\n",
    "print(\"Matrice d'evaluation\", X_test.shape)"
   ]
  },
  {
   "cell_type": "code",
   "execution_count": 81,
   "metadata": {},
   "outputs": [
    {
     "name": "stdout",
     "output_type": "stream",
     "text": [
      "Dimensions avant one-hot encoding:  (60000,)\n",
      "Dimensions avant one-hot encoding:  (60000, 10)\n"
     ]
    }
   ],
   "source": [
    "# one-hot codage avec numpy pour les utiliser dans le model keras\n",
    "n_classes = 10\n",
    "print(\"Dimensions avant one-hot encoding: \", y_train.shape)\n",
    "Y_train = np_utils.to_categorical(y_train, n_classes)\n",
    "Y_test = np_utils.to_categorical(y_test, n_classes)\n",
    "print(\"Dimensions avant one-hot encoding: \", Y_train.shape)"
   ]
  },
  {
   "cell_type": "code",
   "execution_count": 82,
   "metadata": {},
   "outputs": [],
   "source": [
    "# creation d'un reseau de 3 couches qui contient 512, 512, 10 neurones\n",
    "model = Sequential()\n",
    "model.add(Dense(512, input_shape=(784,)))\n",
    "model.add(Activation('relu'))                            \n",
    "model.add(Dropout(0.2))\n",
    "\n",
    "model.add(Dense(512))\n",
    "model.add(Activation('relu'))\n",
    "model.add(Dropout(0.2))\n",
    "\n",
    "model.add(Dense(10))\n",
    "model.add(Activation('softmax'))"
   ]
  },
  {
   "cell_type": "code",
   "execution_count": 84,
   "metadata": {},
   "outputs": [
    {
     "name": "stdout",
     "output_type": "stream",
     "text": [
      "Epoch 1/15\n",
      "469/469 - 4s - loss: 0.0444 - accuracy: 0.9855 - val_loss: 0.0648 - val_accuracy: 0.9790 - 4s/epoch - 9ms/step\n",
      "Epoch 2/15\n",
      "469/469 - 3s - loss: 0.0410 - accuracy: 0.9866 - val_loss: 0.0663 - val_accuracy: 0.9789 - 3s/epoch - 7ms/step\n",
      "Epoch 3/15\n",
      "469/469 - 3s - loss: 0.0371 - accuracy: 0.9879 - val_loss: 0.0626 - val_accuracy: 0.9804 - 3s/epoch - 7ms/step\n",
      "Epoch 4/15\n",
      "469/469 - 3s - loss: 0.0364 - accuracy: 0.9885 - val_loss: 0.0675 - val_accuracy: 0.9788 - 3s/epoch - 7ms/step\n",
      "Epoch 5/15\n",
      "469/469 - 3s - loss: 0.0327 - accuracy: 0.9896 - val_loss: 0.0732 - val_accuracy: 0.9789 - 3s/epoch - 7ms/step\n",
      "Epoch 6/15\n",
      "469/469 - 4s - loss: 0.0317 - accuracy: 0.9898 - val_loss: 0.0633 - val_accuracy: 0.9809 - 4s/epoch - 8ms/step\n",
      "Epoch 7/15\n",
      "469/469 - 4s - loss: 0.0298 - accuracy: 0.9905 - val_loss: 0.0653 - val_accuracy: 0.9796 - 4s/epoch - 8ms/step\n",
      "Epoch 8/15\n",
      "469/469 - 4s - loss: 0.0280 - accuracy: 0.9908 - val_loss: 0.0702 - val_accuracy: 0.9803 - 4s/epoch - 8ms/step\n",
      "Epoch 9/15\n",
      "469/469 - 4s - loss: 0.0274 - accuracy: 0.9911 - val_loss: 0.0659 - val_accuracy: 0.9805 - 4s/epoch - 8ms/step\n",
      "Epoch 10/15\n",
      "469/469 - 4s - loss: 0.0250 - accuracy: 0.9921 - val_loss: 0.0690 - val_accuracy: 0.9794 - 4s/epoch - 9ms/step\n",
      "Epoch 11/15\n",
      "469/469 - 4s - loss: 0.0263 - accuracy: 0.9914 - val_loss: 0.0613 - val_accuracy: 0.9810 - 4s/epoch - 9ms/step\n",
      "Epoch 12/15\n",
      "469/469 - 4s - loss: 0.0235 - accuracy: 0.9926 - val_loss: 0.0687 - val_accuracy: 0.9803 - 4s/epoch - 9ms/step\n",
      "Epoch 13/15\n",
      "469/469 - 4s - loss: 0.0238 - accuracy: 0.9921 - val_loss: 0.0791 - val_accuracy: 0.9779 - 4s/epoch - 9ms/step\n",
      "Epoch 14/15\n",
      "469/469 - 4s - loss: 0.0214 - accuracy: 0.9927 - val_loss: 0.0619 - val_accuracy: 0.9814 - 4s/epoch - 9ms/step\n",
      "Epoch 15/15\n",
      "469/469 - 5s - loss: 0.0203 - accuracy: 0.9929 - val_loss: 0.0641 - val_accuracy: 0.9822 - 5s/epoch - 10ms/step\n"
     ]
    }
   ],
   "source": [
    "# definition des parametres d'optimisation et la fonction de loss\n",
    "model.compile(loss='categorical_crossentropy', metrics=['accuracy'], optimizer='adam')\n",
    "\n",
    "# l'entrainement du model\n",
    "history = model.fit(X_train, Y_train,\n",
    "          batch_size=128, epochs=15,\n",
    "          verbose=2,\n",
    "          validation_data=(X_test, Y_test))"
   ]
  },
  {
   "cell_type": "code",
   "execution_count": 86,
   "metadata": {},
   "outputs": [
    {
     "name": "stdout",
     "output_type": "stream",
     "text": [
      "313/313 - 1s - loss: 0.0641 - accuracy: 0.9822 - 733ms/epoch - 2ms/step\n",
      "Test Loss 6.409822404384613 %\n",
      "Test Accuracy 98.2200026512146 %\n"
     ]
    }
   ],
   "source": [
    "loss_and_metrics = model.evaluate(X_test, Y_test, verbose=2)\n",
    "\n",
    "print(\"Test Loss\", loss_and_metrics[0]*100, \"%\")\n",
    "print(\"Test Accuracy\", loss_and_metrics[1]*100, \"%\")"
   ]
  }
 ],
 "metadata": {
  "kernelspec": {
   "display_name": "Python 3.10.4 64-bit",
   "language": "python",
   "name": "python3"
  },
  "language_info": {
   "codemirror_mode": {
    "name": "ipython",
    "version": 3
   },
   "file_extension": ".py",
   "mimetype": "text/x-python",
   "name": "python",
   "nbconvert_exporter": "python",
   "pygments_lexer": "ipython3",
   "version": "3.10.4"
  },
  "orig_nbformat": 4,
  "vscode": {
   "interpreter": {
    "hash": "d8580c71030c978e9f5b33921c832313beab3d7fd263d57ca25cdd65963236b4"
   }
  }
 },
 "nbformat": 4,
 "nbformat_minor": 2
}
