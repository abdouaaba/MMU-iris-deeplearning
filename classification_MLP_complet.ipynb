{
 "cells": [
  {
   "cell_type": "code",
   "execution_count": 3,
   "metadata": {},
   "outputs": [
    {
     "name": "stdout",
     "output_type": "stream",
     "text": [
      "['calibration', 'cluster', 'covariance', 'cross_decomposition', 'datasets', 'decomposition', 'dummy', 'ensemble', 'exceptions', 'experimental', 'externals', 'feature_extraction', 'feature_selection', 'gaussian_process', 'inspection', 'isotonic', 'kernel_approximation', 'kernel_ridge', 'linear_model', 'manifold', 'metrics', 'mixture', 'model_selection', 'multiclass', 'multioutput', 'naive_bayes', 'neighbors', 'neural_network', 'pipeline', 'preprocessing', 'random_projection', 'semi_supervised', 'svm', 'tree', 'discriminant_analysis', 'impute', 'compose', 'clone', 'get_config', 'set_config', 'config_context', 'show_versions']\n",
      "\n",
      "['clear_data_home', 'dump_svmlight_file', 'fetch_20newsgroups', 'fetch_20newsgroups_vectorized', 'fetch_lfw_pairs', 'fetch_lfw_people', 'fetch_olivetti_faces', 'fetch_species_distributions', 'fetch_california_housing', 'fetch_covtype', 'fetch_rcv1', 'fetch_kddcup99', 'fetch_openml', 'get_data_home', 'load_boston', 'load_diabetes', 'load_digits', 'load_files', 'load_iris', 'load_breast_cancer', 'load_linnerud', 'load_sample_image', 'load_sample_images', 'load_svmlight_file', 'load_svmlight_files', 'load_wine', 'make_biclusters', 'make_blobs', 'make_circles', 'make_classification', 'make_checkerboard', 'make_friedman1', 'make_friedman2', 'make_friedman3', 'make_gaussian_quantiles', 'make_hastie_10_2', 'make_low_rank_matrix', 'make_moons', 'make_multilabel_classification', 'make_regression', 'make_s_curve', 'make_sparse_coded_signal', 'make_sparse_spd_matrix', 'make_sparse_uncorrelated', 'make_spd_matrix', 'make_swiss_roll']\n",
      "\n"
     ]
    }
   ],
   "source": [
    "\"\"\"\n",
    "    Documentation scikitlearn: https://scikit-learn.org\n",
    "    exemple: https://scikit-learn.org/stable/auto_examples/text/plot_document_classification_20newsgroups.html#load-data-from-the-training-set\n",
    "\"\"\"\n",
    "\n",
    "import sklearn\n",
    "print(sklearn.__all__)\n",
    "\"\"\"\n",
    "    Ce qui nous intéresse:\n",
    "    datasets, model_selection, linear_model, neighbors, neural_network, svm\n",
    "\"\"\"\n",
    "print()\n",
    "\n",
    "import sklearn.datasets\n",
    "print(sklearn.datasets.__all__)\n",
    "\"\"\"\n",
    "    On utilise surtout les module qui commencent par \"load_\" et \"fetch\"\n",
    "\"\"\"\n",
    "print()"
   ]
  },
  {
   "cell_type": "code",
   "execution_count": 4,
   "metadata": {},
   "outputs": [
    {
     "name": "stdout",
     "output_type": "stream",
     "text": [
      "/usr/lib/python3/dist-packages/sklearn/datasets/data/iris.csv\n",
      "dict_keys(['data', 'target', 'target_names', 'DESCR', 'feature_names', 'filename'])\n",
      ".. _iris_dataset:\n",
      "\n",
      "Iris plants dataset\n",
      "--------------------\n",
      "\n",
      "**Data Set Characteristics:**\n",
      "\n",
      "    :Number of Instances: 150 (50 in each of three classes)\n",
      "    :Number of Attributes: 4 numeric, predictive attributes and the class\n",
      "    :Attribute Information:\n",
      "        - sepal length in cm\n",
      "        - sepal width in cm\n",
      "        - petal length in cm\n",
      "        - petal width in cm\n",
      "        - class:\n",
      "                - Iris-Setosa\n",
      "                - Iris-Versicolour\n",
      "                - Iris-Virginica\n",
      "                \n",
      "    :Summary Statistics:\n",
      "\n",
      "    ============== ==== ==== ======= ===== ====================\n",
      "                    Min  Max   Mean    SD   Class Correlation\n",
      "    ============== ==== ==== ======= ===== ====================\n",
      "    sepal length:   4.3  7.9   5.84   0.83    0.7826\n",
      "    sepal width:    2.0  4.4   3.05   0.43   -0.4194\n",
      "    petal length:   1.0  6.9   3.76   1.76    0.9490  (high!)\n",
      "    petal width:    0.1  2.5   1.20   0.76    0.9565  (high!)\n",
      "    ============== ==== ==== ======= ===== ====================\n",
      "\n",
      "    :Missing Attribute Values: None\n",
      "    :Class Distribution: 33.3% for each of 3 classes.\n",
      "    :Creator: R.A. Fisher\n",
      "    :Donor: Michael Marshall (MARSHALL%PLU@io.arc.nasa.gov)\n",
      "    :Date: July, 1988\n",
      "\n",
      "The famous Iris database, first used by Sir R.A. Fisher. The dataset is taken\n",
      "from Fisher's paper. Note that it's the same as in R, but not as in the UCI\n",
      "Machine Learning Repository, which has two wrong data points.\n",
      "\n",
      "This is perhaps the best known database to be found in the\n",
      "pattern recognition literature.  Fisher's paper is a classic in the field and\n",
      "is referenced frequently to this day.  (See Duda & Hart, for example.)  The\n",
      "data set contains 3 classes of 50 instances each, where each class refers to a\n",
      "type of iris plant.  One class is linearly separable from the other 2; the\n",
      "latter are NOT linearly separable from each other.\n",
      "\n",
      ".. topic:: References\n",
      "\n",
      "   - Fisher, R.A. \"The use of multiple measurements in taxonomic problems\"\n",
      "     Annual Eugenics, 7, Part II, 179-188 (1936); also in \"Contributions to\n",
      "     Mathematical Statistics\" (John Wiley, NY, 1950).\n",
      "   - Duda, R.O., & Hart, P.E. (1973) Pattern Classification and Scene Analysis.\n",
      "     (Q327.D83) John Wiley & Sons.  ISBN 0-471-22361-1.  See page 218.\n",
      "   - Dasarathy, B.V. (1980) \"Nosing Around the Neighborhood: A New System\n",
      "     Structure and Classification Rule for Recognition in Partially Exposed\n",
      "     Environments\".  IEEE Transactions on Pattern Analysis and Machine\n",
      "     Intelligence, Vol. PAMI-2, No. 1, 67-71.\n",
      "   - Gates, G.W. (1972) \"The Reduced Nearest Neighbor Rule\".  IEEE Transactions\n",
      "     on Information Theory, May 1972, 431-433.\n",
      "   - See also: 1988 MLC Proceedings, 54-64.  Cheeseman et al\"s AUTOCLASS II\n",
      "     conceptual clustering system finds 3 classes in the data.\n",
      "   - Many, many more ...\n",
      ".. _iris_dataset:\n",
      "\n",
      "Iris plants dataset\n",
      "--------------------\n",
      "\n",
      "**Data Set Characteristics:**\n",
      "\n",
      "    :Number of Instances: 150 (50 in each of three classes)\n",
      "    :Number of Attributes: 4 numeric, predictive attributes and the class\n",
      "    :Attribute Information:\n",
      "        - sepal length in cm\n",
      "        - sepal width in cm\n",
      "        - petal length in cm\n",
      "        - petal width in cm\n",
      "        - class:\n",
      "                - Iris-Setosa\n",
      "                - Iris-Versicolour\n",
      "                - Iris-Virginica\n",
      "                \n",
      "    :Summary Statistics:\n",
      "\n",
      "    ============== ==== ==== ======= ===== ====================\n",
      "                    Min  Max   Mean    SD   Class Correlation\n",
      "    ============== ==== ==== ======= ===== ====================\n",
      "    sepal length:   4.3  7.9   5.84   0.83    0.7826\n",
      "    sepal width:    2.0  4.4   3.05   0.43   -0.4194\n",
      "    petal length:   1.0  6.9   3.76   1.76    0.9490  (high!)\n",
      "    petal width:    0.1  2.5   1.20   0.76    0.9565  (high!)\n",
      "    ============== ==== ==== ======= ===== ====================\n",
      "\n",
      "    :Missing Attribute Values: None\n",
      "    :Class Distribution: 33.3% for each of 3 classes.\n",
      "    :Creator: R.A. Fisher\n",
      "    :Donor: Michael Marshall (MARSHALL%PLU@io.arc.nasa.gov)\n",
      "    :Date: July, 1988\n",
      "\n",
      "The famous Iris database, first used by Sir R.A. Fisher. The dataset is taken\n",
      "from Fisher's paper. Note that it's the same as in R, but not as in the UCI\n",
      "Machine Learning Repository, which has two wrong data points.\n",
      "\n",
      "This is perhaps the best known database to be found in the\n",
      "pattern recognition literature.  Fisher's paper is a classic in the field and\n",
      "is referenced frequently to this day.  (See Duda & Hart, for example.)  The\n",
      "data set contains 3 classes of 50 instances each, where each class refers to a\n",
      "type of iris plant.  One class is linearly separable from the other 2; the\n",
      "latter are NOT linearly separable from each other.\n",
      "\n",
      ".. topic:: References\n",
      "\n",
      "   - Fisher, R.A. \"The use of multiple measurements in taxonomic problems\"\n",
      "     Annual Eugenics, 7, Part II, 179-188 (1936); also in \"Contributions to\n",
      "     Mathematical Statistics\" (John Wiley, NY, 1950).\n",
      "   - Duda, R.O., & Hart, P.E. (1973) Pattern Classification and Scene Analysis.\n",
      "     (Q327.D83) John Wiley & Sons.  ISBN 0-471-22361-1.  See page 218.\n",
      "   - Dasarathy, B.V. (1980) \"Nosing Around the Neighborhood: A New System\n",
      "     Structure and Classification Rule for Recognition in Partially Exposed\n",
      "     Environments\".  IEEE Transactions on Pattern Analysis and Machine\n",
      "     Intelligence, Vol. PAMI-2, No. 1, 67-71.\n",
      "   - Gates, G.W. (1972) \"The Reduced Nearest Neighbor Rule\".  IEEE Transactions\n",
      "     on Information Theory, May 1972, 431-433.\n",
      "   - See also: 1988 MLC Proceedings, 54-64.  Cheeseman et al\"s AUTOCLASS II\n",
      "     conceptual clustering system finds 3 classes in the data.\n",
      "   - Many, many more ...\n",
      "[[5.1 3.5 1.4 0.2]\n",
      " [4.9 3.  1.4 0.2]\n",
      " [4.7 3.2 1.3 0.2]]\n"
     ]
    }
   ],
   "source": [
    "\"\"\"===================================================\n",
    "    Chargement de la base de données \"iris\"\n",
    "===================================================\"\"\"\n",
    "from sklearn.datasets import load_iris\n",
    "donnees_iris = load_iris()\n",
    "print(donnees_iris.filename) # Chemin vers le fichier de la base de données iris\n",
    "print(donnees_iris.keys()) # Contenu du fichier de la base iris\n",
    "print(donnees_iris.DESCR) # Description de la base de données iris\n",
    "print(donnees_iris['DESCR']) # Équivalente à la ligne précédente\n",
    "print(donnees_iris['data'][:3]) # Afficher les 3 première lignes de la table des données iris"
   ]
  },
  {
   "cell_type": "code",
   "execution_count": 5,
   "metadata": {},
   "outputs": [
    {
     "name": "stdout",
     "output_type": "stream",
     "text": [
      "(112, 4)\n",
      "(38, 4)\n"
     ]
    }
   ],
   "source": [
    "\"\"\"====================================================================================\n",
    "    Subdivision de la base de données \"iris\" en base d'apprentissage et base de test\n",
    "====================================================================================\"\"\"\n",
    "from sklearn.model_selection import train_test_split\n",
    "X_train, X_test, Y_train, Y_test = train_test_split(donnees_iris.data, donnees_iris.target)\n",
    "print(X_train.shape) # Taille de la base de données d'entraînement\n",
    "print(X_test.shape) # Taille de la base de données de test"
   ]
  },
  {
   "cell_type": "code",
   "execution_count": 15,
   "metadata": {},
   "outputs": [
    {
     "name": "stdout",
     "output_type": "stream",
     "text": [
      "[1 2 0 0 0 2 2 0 0 2 1 1 2 0 0 0 1 1 1 0 0 0 0 0 0 0 2 1 1 2 0 2 1 2 0 2 0\n",
      " 1 0 1 0 2 1 0 2 1 2 2 0 2 0 0 1 0 2 1 2 0 1 1 1 2 1 0 1 1 2 0 1 1 0 2 0 0\n",
      " 0 1 0 0 2 1 2 2 1 1 2 0 1 2 0 1 1 1 1 0 1 2 2 2 0 2 0 0 2 0 0 1 1 1 2 2 2\n",
      " 1]\n",
      "[2]\n",
      "98.21%\n",
      "94.74%\n"
     ]
    },
    {
     "name": "stderr",
     "output_type": "stream",
     "text": [
      "/usr/lib/python3/dist-packages/sklearn/neural_network/_multilayer_perceptron.py:568: ConvergenceWarning: Stochastic Optimizer: Maximum iterations (200) reached and the optimization hasn't converged yet.\n",
      "  warnings.warn(\n"
     ]
    }
   ],
   "source": [
    "\"\"\"==============================================================\n",
    "    Classification des données iris par perceptron multicouche\n",
    "==============================================================\"\"\"\n",
    "from sklearn.neural_network import MLPClassifier\n",
    "mlp = MLPClassifier().fit(X_train, Y_train)\n",
    "print(mlp.predict(X_train))\n",
    "print(mlp.predict([[6.3,2.5,5,1.9]]))\n",
    "print('%.2f' % (mlp.score(X_train, Y_train)*100) + '%')\n",
    "print('%.2f' % (mlp.score(X_test, Y_test)*100) + '%')\n"
   ]
  },
  {
   "cell_type": "code",
   "execution_count": 16,
   "metadata": {},
   "outputs": [
    {
     "name": "stdout",
     "output_type": "stream",
     "text": [
      "[1 2 0 0 0 2 2 0 0 2 1 1 2 0 0 0 1 1 1 0 0 0 0 0 0 0 2 1 1 2 0 2 1 2 0 2 0\n",
      " 1 0 1 0 2 1 0 2 1 2 2 0 2 0 0 1 0 2 1 2 0 1 1 1 2 1 0 1 1 2 0 1 1 0 1 0 0\n",
      " 0 1 0 0 2 1 2 2 1 1 2 0 1 2 0 1 1 1 1 0 1 2 2 2 0 2 0 0 2 0 0 1 1 1 2 2 2\n",
      " 1]\n",
      "99.11%\n",
      "94.74%\n"
     ]
    }
   ],
   "source": [
    "\"\"\"==============================================================\n",
    "    Classification des données iris par perceptron multicouche\n",
    "==============================================================\"\"\"\n",
    "from sklearn.neural_network import MLPClassifier\n",
    "mlp = MLPClassifier(max_iter=1000).fit(X_train, Y_train)\n",
    "predictions = mlp.predict(X_train)\n",
    "print(predictions)\n",
    "print('%.2f' % (mlp.score(X_train, Y_train)*100) + '%')\n",
    "print('%.2f' % (mlp.score(X_test, Y_test)*100) + '%')"
   ]
  },
  {
   "cell_type": "code",
   "execution_count": 17,
   "metadata": {},
   "outputs": [
    {
     "name": "stdout",
     "output_type": "stream",
     "text": [
      "[1 2 0 0 0 2 2 0 0 2 1 1 2 0 0 0 1 1 1 0 0 0 0 0 0 0 2 1 1 2 0 2 1 2 0 2 0\n",
      " 1 0 1 0 2 1 0 2 1 2 2 0 2 0 0 1 0 2 1 2 0 1 1 1 2 1 0 1 1 2 0 1 1 0 1 0 0\n",
      " 0 1 0 0 2 1 2 2 1 1 2 0 1 2 0 1 1 1 1 0 1 2 2 2 0 2 0 0 2 0 0 1 1 1 2 2 2\n",
      " 1]\n",
      "99.11%\n",
      "94.74%\n"
     ]
    }
   ],
   "source": [
    "\"\"\"==============================================================\n",
    "    Classification des données iris par perceptron multicouche\n",
    "==============================================================\"\"\"\n",
    "from sklearn.neural_network import MLPClassifier\n",
    "mlp = MLPClassifier(learning_rate_init=.2).fit(X_train, Y_train)\n",
    "print(mlp.predict(X_train))\n",
    "print('%.2f' % (mlp.score(X_train, Y_train)*100) + '%')\n",
    "print('%.2f' % (mlp.score(X_test, Y_test)*100) + '%')\n"
   ]
  },
  {
   "cell_type": "code",
   "execution_count": 18,
   "metadata": {},
   "outputs": [
    {
     "name": "stdout",
     "output_type": "stream",
     "text": [
      "[1 2 0 0 0 2 2 0 0 2 1 1 1 0 0 0 1 1 1 0 0 0 0 0 0 0 1 2 1 2 0 2 1 2 0 2 0\n",
      " 1 0 1 0 2 1 0 1 1 2 2 0 2 0 0 1 0 1 1 2 0 1 1 1 2 1 0 1 1 2 0 2 1 0 1 0 0\n",
      " 0 1 0 0 2 1 1 1 1 1 2 0 1 1 0 1 2 1 1 0 1 1 2 2 0 1 0 0 1 0 0 1 1 1 2 2 2\n",
      " 2]\n",
      "88.39%\n",
      "86.84%\n"
     ]
    }
   ],
   "source": [
    "\"\"\"==============================================================\n",
    "    Classification des données iris par perceptron multicouche\n",
    "==============================================================\"\"\"\n",
    "from sklearn.neural_network import MLPClassifier\n",
    "mlp = MLPClassifier(learning_rate_init=.2, hidden_layer_sizes=[15,17]).fit(X_train, Y_train)\n",
    "print(mlp.predict(X_train))\n",
    "print('%.2f' % (mlp.score(X_train, Y_train)*100) + '%')\n",
    "print('%.2f' % (mlp.score(X_test, Y_test)*100) + '%')\n"
   ]
  },
  {
   "cell_type": "code",
   "execution_count": 19,
   "metadata": {},
   "outputs": [
    {
     "name": "stdout",
     "output_type": "stream",
     "text": [
      "              precision    recall  f1-score   support\n",
      "\n",
      "      setosa       1.00      1.00      1.00        42\n",
      "  versicolor       1.00      0.97      0.99        39\n",
      "   virginica       0.97      1.00      0.98        31\n",
      "\n",
      "    accuracy                           0.99       112\n",
      "   macro avg       0.99      0.99      0.99       112\n",
      "weighted avg       0.99      0.99      0.99       112\n",
      "\n",
      "[[42  0  0]\n",
      " [ 0 38  1]\n",
      " [ 0  0 31]]\n",
      "              precision    recall  f1-score   support\n",
      "\n",
      "      setosa       1.00      1.00      1.00         8\n",
      "  versicolor       0.92      1.00      0.96        11\n",
      "   virginica       1.00      0.95      0.97        19\n",
      "\n",
      "    accuracy                           0.97        38\n",
      "   macro avg       0.97      0.98      0.98        38\n",
      "weighted avg       0.98      0.97      0.97        38\n",
      "\n",
      "[[ 8  0  0]\n",
      " [ 0 11  0]\n",
      " [ 0  1 18]]\n"
     ]
    }
   ],
   "source": [
    "\"\"\"==============================================================\n",
    "    Classification des données iris par perceptron multicouche\n",
    "==============================================================\"\"\"\n",
    "from sklearn.neural_network import MLPClassifier\n",
    "mlp = MLPClassifier(max_iter=1000).fit(X_train, Y_train)\n",
    "# Évaluation des statistiques ou metrics\n",
    "from sklearn.metrics import classification_report\n",
    "from sklearn.metrics import confusion_matrix\n",
    "predictions = mlp.predict(X_train)\n",
    "print(classification_report(Y_train, predictions, target_names=donnees_iris['target_names']))\n",
    "print(confusion_matrix(Y_train, predictions))\n",
    "predictions = mlp.predict(X_test)\n",
    "print(classification_report(Y_test, predictions, target_names=donnees_iris['target_names']))\n",
    "print(confusion_matrix(Y_test, predictions))"
   ]
  },
  {
   "cell_type": "code",
   "execution_count": 20,
   "metadata": {},
   "outputs": [
    {
     "name": "stdout",
     "output_type": "stream",
     "text": [
      "<bound method BaseEstimator.get_params of MLPClassifier(activation='relu', alpha=0.0001, batch_size='auto', beta_1=0.9,\n",
      "              beta_2=0.999, early_stopping=False, epsilon=1e-08,\n",
      "              hidden_layer_sizes=(100,), learning_rate='constant',\n",
      "              learning_rate_init=0.001, max_fun=15000, max_iter=1000,\n",
      "              momentum=0.9, n_iter_no_change=10, nesterovs_momentum=True,\n",
      "              power_t=0.5, random_state=None, shuffle=True, solver='adam',\n",
      "              tol=0.0001, validation_fraction=0.1, verbose=False,\n",
      "              warm_start=False)>\n",
      "Nombre de couches: 3\n",
      "Nombre de neurones dans les couches cachées: 100\n",
      "Type de fonction d'activivation: relu\n",
      "Mode de mise à jour du taux d'apprentissage: constant\n",
      "Valeur iniales du taux d'apprentissage: 0.001\n",
      "Alpha: 0.0001\n",
      "Momentum: 0.9\n",
      "Seuil de différence entre les poids dans deux itérations successives (Critère d'arrêt): 1e-08\n",
      "Nombre max d'itération (Critère d'arrêt): 1000\n",
      "Nombre atteint d'itérations: 579\n",
      "\n"
     ]
    }
   ],
   "source": [
    "\"\"\"==========================================\n",
    "    Parametres du perceptron multicouche\n",
    "==========================================\"\"\"\n",
    "\n",
    "print(mlp.get_params) # Afficher tous les paramétres\n",
    "\n",
    "print(\"Nombre de couches: {}\".format(mlp.n_layers_))\n",
    "print(\"Nombre de neurones dans les couches cachées: {}\".format(mlp.hidden_layer_sizes[0]))\n",
    "print(\"Type de fonction d'activivation: {}\".format(mlp.activation))\n",
    "\n",
    "print(\"Mode de mise à jour du taux d'apprentissage: {}\".format(mlp.learning_rate))\n",
    "print(\"Valeur iniales du taux d'apprentissage: {}\".format(mlp.learning_rate_init))\n",
    "print(\"Alpha: {}\".format(mlp.alpha))\n",
    "print(\"Momentum: {}\".format(mlp.momentum))\n",
    "\n",
    "print(\"Seuil de différence entre les poids dans deux itérations successives (Critère d'arrêt): {}\".format(mlp.epsilon))\n",
    "print(\"Nombre max d'itération (Critère d'arrêt): {}\".format(mlp.max_iter))\n",
    "print(\"Nombre atteint d'itérations: {}\".format(mlp.n_iter_))\n",
    "\n",
    "\"\"\"\n",
    "    plus d'info sur la page web\n",
    "    https://scikit-learn.org/stable/modules/generated/sklearn.neural_network.MLPClassifier.html\n",
    "\"\"\"\n",
    "print()\n",
    "\n"
   ]
  },
  {
   "cell_type": "code",
   "execution_count": 21,
   "metadata": {},
   "outputs": [
    {
     "name": "stdout",
     "output_type": "stream",
     "text": [
      "\n"
     ]
    }
   ],
   "source": [
    "\"\"\"\n",
    "Refait ce travail pour d'autre bases de données, en minimisant le nombre de neurones utilisés \n",
    "\"\"\"\n",
    "print()\n"
   ]
  },
  {
   "cell_type": "code",
   "execution_count": 22,
   "metadata": {},
   "outputs": [
    {
     "name": "stdout",
     "output_type": "stream",
     "text": [
      "\n"
     ]
    }
   ],
   "source": [
    "\"\"\"\n",
    "Évaluer la matrice de confusion\n",
    "\"\"\"\n",
    "print()"
   ]
  }
 ],
 "metadata": {
  "interpreter": {
   "hash": "916dbcbb3f70747c44a77c7bcd40155683ae19c65e1c03b4aa3499c5328201f1"
  },
  "kernelspec": {
   "display_name": "Python 3.8.10 64-bit",
   "language": "python",
   "name": "python3"
  },
  "language_info": {
   "codemirror_mode": {
    "name": "ipython",
    "version": 3
   },
   "file_extension": ".py",
   "mimetype": "text/x-python",
   "name": "python",
   "nbconvert_exporter": "python",
   "pygments_lexer": "ipython3",
   "version": "3.8.10"
  },
  "orig_nbformat": 4
 },
 "nbformat": 4,
 "nbformat_minor": 2
}
